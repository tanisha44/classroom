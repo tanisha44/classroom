{
 "cells": [
  {
   "cell_type": "code",
   "execution_count": 1,
   "id": "e5e26ee5-7955-43c3-a91a-ff1212fa7088",
   "metadata": {},
   "outputs": [
    {
     "name": "stdin",
     "output_type": "stream",
     "text": [
      "Enter location D:\\mca 1st year sem-1\\python programming\n"
     ]
    }
   ],
   "source": [
    "#write a program that takes directry address from user and returns the list of file names in that dirctory we can use os module to perform these things.\n",
    "\n",
    "import os\n",
    "#help(os)\n",
    "\n",
    "address = input(\"Enter location\")\n",
    "#address = \"D:\\mca 1st year sem-1\\python programming\""
   ]
  },
  {
   "cell_type": "code",
   "execution_count": null,
   "id": "7e8bbd7b-eb53-4609-9d8b-0cdfe8fdf37f",
   "metadata": {},
   "outputs": [],
   "source": []
  },
  {
   "cell_type": "code",
   "execution_count": 2,
   "id": "60026ab8-7dde-4294-adc0-99f0b784c656",
   "metadata": {},
   "outputs": [
    {
     "data": {
      "text/plain": [
       "['.ipynb_checkpoints',\n",
       " '1609',\n",
       " '1909.py',\n",
       " '3 10.py',\n",
       " '30 9.py',\n",
       " '7 10.py',\n",
       " 'assignment 1',\n",
       " 'assignment 2',\n",
       " 'Assignment_2.py',\n",
       " 'classroom.ipynb',\n",
       " 'file downloader',\n",
       " 'file organizer',\n",
       " 'Organizer',\n",
       " 'Organizer.zip',\n",
       " 'pickle use.py',\n",
       " 'Quetion1.ipynb',\n",
       " 'Untitled-1.py',\n",
       " 'Untitled.ipynb',\n",
       " 'Untitled1.ipynb',\n",
       " 'UPES MCA Python Programming Syllabus.pdf',\n",
       " '__pycache__']"
      ]
     },
     "execution_count": 2,
     "metadata": {},
     "output_type": "execute_result"
    }
   ],
   "source": [
    "os.chdir(address) #chdir is use for change directory \n",
    "\n",
    "list_of_files = os.listdir()  # list files in dir\n",
    "list_of_files"
   ]
  },
  {
   "cell_type": "code",
   "execution_count": 3,
   "id": "01dbf9ca-3b34-420f-82d5-e965558de3cb",
   "metadata": {},
   "outputs": [
    {
     "name": "stdout",
     "output_type": "stream",
     "text": [
      ".ipynb_checkpoints\n",
      "1609\n",
      "1909.py\n",
      "3 10.py\n",
      "30 9.py\n",
      "7 10.py\n",
      "assignment 1\n",
      "assignment 2\n",
      "Assignment_2.py\n",
      "classroom.ipynb\n",
      "file downloader\n",
      "file organizer\n",
      "Organizer\n",
      "Organizer.zip\n",
      "pickle use.py\n",
      "Quetion1.ipynb\n",
      "Untitled-1.py\n",
      "Untitled.ipynb\n",
      "Untitled1.ipynb\n",
      "UPES MCA Python Programming Syllabus.pdf\n",
      "__pycache__\n"
     ]
    }
   ],
   "source": [
    "for k in list_of_files:\n",
    "    print(k)"
   ]
  },
  {
   "cell_type": "code",
   "execution_count": 4,
   "id": "73eec367-331c-4130-b608-425b103a7812",
   "metadata": {},
   "outputs": [
    {
     "name": "stderr",
     "output_type": "stream",
     "text": [
      "<string>:21: SyntaxWarning: invalid escape sequence '\\{'\n",
      "<>:19: SyntaxWarning: invalid escape sequence '\\m'\n",
      "<>:21: SyntaxWarning: invalid escape sequence '\\{'\n",
      "<>:21: SyntaxWarning: invalid escape sequence '\\d'\n",
      "<string>:21: SyntaxWarning: invalid escape sequence '\\{'\n",
      "<>:19: SyntaxWarning: invalid escape sequence '\\m'\n",
      "<>:21: SyntaxWarning: invalid escape sequence '\\{'\n",
      "<>:21: SyntaxWarning: invalid escape sequence '\\d'\n",
      "C:\\Users\\Hp\\AppData\\Local\\Temp\\ipykernel_40576\\3119489139.py:19: SyntaxWarning: invalid escape sequence '\\m'\n",
      "  relative_source_file_path = \"D:\\mca 1st year sem-1\\python programming\"\n",
      "C:\\Users\\Hp\\AppData\\Local\\Temp\\ipykernel_40576\\3119489139.py:21: SyntaxWarning: invalid escape sequence '\\{'\n",
      "  relative_destination_file_path = f\".\\{dirName}\\demo.txt\"\n",
      "C:\\Users\\Hp\\AppData\\Local\\Temp\\ipykernel_40576\\3119489139.py:21: SyntaxWarning: invalid escape sequence '\\d'\n",
      "  relative_destination_file_path = f\".\\{dirName}\\demo.txt\"\n"
     ]
    }
   ],
   "source": [
    "#Write a function that takes dir address from user and organize file onthat folder in to following categories as given below\n",
    "#Folder\tExtesion\n",
    "#videos\tmpg,mkv\n",
    "#Images\tjpg,png\n",
    "#audio\tmp3,oog\n",
    "#Docs\tdocx,txt,pdf\n",
    "#Mics\tothers\n",
    "\n",
    "import os\n",
    "\n",
    "dirName = \"Image\"\n",
    "make_dir_cmd = f\"md {dirName}\"\n",
    "os.system(make_dir_cmd)\n",
    "\n",
    "os.mkdir(\"dirName\")\n",
    "\n",
    "#to move files\n",
    "\n",
    "relative_source_file_path = \"D:\\mca 1st year sem-1\\python programming\"\n",
    "dirName = \"Images\"\n",
    "relative_destination_file_path = f\".\\{dirName}\\demo.txt\"\n",
    "cmd_to_move_file = f\"move {relative_source_file_path} {relative_destination_file_path}\""
   ]
  },
  {
   "cell_type": "code",
   "execution_count": null,
   "id": "bcfa0a89-10f7-4f88-b125-eb5ffe9880dd",
   "metadata": {},
   "outputs": [],
   "source": []
  }
 ],
 "metadata": {
  "kernelspec": {
   "display_name": "Python 3 (ipykernel)",
   "language": "python",
   "name": "python3"
  },
  "language_info": {
   "codemirror_mode": {
    "name": "ipython",
    "version": 3
   },
   "file_extension": ".py",
   "mimetype": "text/x-python",
   "name": "python",
   "nbconvert_exporter": "python",
   "pygments_lexer": "ipython3",
   "version": "3.12.5"
  }
 },
 "nbformat": 4,
 "nbformat_minor": 5
}
