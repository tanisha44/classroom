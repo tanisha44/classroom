{
 "cells": [
  {
   "cell_type": "code",
   "execution_count": 2,
   "id": "d8a8d8d3-b112-4b9c-810d-681523057265",
   "metadata": {},
   "outputs": [
    {
     "name": "stdout",
     "output_type": "stream",
     "text": [
      "Match found: hello\n"
     ]
    }
   ],
   "source": [
    "import re\n",
    "\n",
    "pattern = r\"hello\"\n",
    "text = \"hello world\"\n",
    "match = re.search(pattern, text)\n",
    "print(\"Match found:\", match.group() if match else \"No match\")\n"
   ]
  },
  {
   "cell_type": "code",
   "execution_count": 3,
   "id": "8ac10b50-672e-4ee5-a4f9-80ecc02d4cb7",
   "metadata": {},
   "outputs": [
    {
     "name": "stdout",
     "output_type": "stream",
     "text": [
      "Match found: cat\n"
     ]
    }
   ],
   "source": [
    "import re\n",
    "pattern = r\"cat\"\n",
    "text=\"The cat sat on the mat.\"\n",
    "match = re.search(pattern, text)\n",
    "print(\"Match found:\", match.group() if match else \"No match\")"
   ]
  },
  {
   "cell_type": "code",
   "execution_count": 4,
   "id": "ecca2e54-d834-44d9-a649-618342bc3f5e",
   "metadata": {},
   "outputs": [
    {
     "name": "stdout",
     "output_type": "stream",
     "text": [
      "Match found: cat\n"
     ]
    }
   ],
   "source": [
    "pattern = r\"c.t\"\n",
    "text = \"The cat sat.\"\n",
    "match = re.search(pattern, text)\n",
    "print(\"Match found:\", match.group() if match else \"No match\")"
   ]
  },
  {
   "cell_type": "code",
   "execution_count": 14,
   "id": "fc9e95d5-37c9-48a9-b4d6-17cc1c73f0d5",
   "metadata": {},
   "outputs": [
    {
     "name": "stdout",
     "output_type": "stream",
     "text": [
      "Matches found: ['Hello', 'World', '123']\n"
     ]
    }
   ],
   "source": [
    "#pattern = r\"[a-z A-Z 0-9]+\"\n",
    "#pattern = r\"[a-zA-Z\\d]+\"\n",
    "pattern = r\"[\\w]+\"\n",
    "text = \"Hello World 123\"\n",
    "matches = re.findall(pattern, text)\n",
    "print(\"Matches found:\", matches)"
   ]
  },
  {
   "cell_type": "code",
   "execution_count": 15,
   "id": "6ac0e491-e088-4533-8d22-e9a4cb0204ed",
   "metadata": {},
   "outputs": [
    {
     "name": "stdout",
     "output_type": "stream",
     "text": [
      "Matches found: ['123', '456', '789']\n"
     ]
    }
   ],
   "source": [
    "pattern = r\"\\d{3}\"\n",
    "text = \"My number is 1234567890\"\n",
    "matches = re.findall(pattern, text)\n",
    "print(\"Matches found:\", matches)"
   ]
  },
  {
   "cell_type": "code",
   "execution_count": 26,
   "id": "3a82ba7c-8ce1-4fc3-b880-aeda1209283d",
   "metadata": {},
   "outputs": [
    {
     "name": "stdout",
     "output_type": "stream",
     "text": [
      "Match found: hello\n"
     ]
    }
   ],
   "source": [
    "pattern = r\"h.llo\"\n",
    "text = \"hello\"\n",
    "match = re.search(pattern, text)\n",
    "print(\"Match found:\", match.group() if match else \"No match\")"
   ]
  },
  {
   "cell_type": "code",
   "execution_count": 29,
   "id": "248d8c6c-4879-48a2-9d18-e3310790e794",
   "metadata": {},
   "outputs": [
    {
     "name": "stdout",
     "output_type": "stream",
     "text": [
      "Greedy match: content\n",
      "Lazy match: \n"
     ]
    }
   ],
   "source": [
    "import re\n",
    "pattern = r\".*\"\n",
    "text = \"content\"\n",
    "match = re.search(pattern, text)\n",
    "print(\"Greedy match:\", match.group())\n",
    "\n",
    "pattern_lazy = r\".*?\"\n",
    "match_lazy = re.search(pattern_lazy, text)\n",
    "print(\"Lazy match:\", match_lazy.group())\n"
   ]
  },
  {
   "cell_type": "code",
   "execution_count": 30,
   "id": "48d1a2cd-db00-4c4e-9a3a-254315d8518c",
   "metadata": {},
   "outputs": [
    {
     "name": "stdout",
     "output_type": "stream",
     "text": [
      "Area code: 123\n",
      "Local code: 45\n"
     ]
    }
   ],
   "source": [
    "pattern = r\"(\\d{3})-(\\d{2})\"\n",
    "text = \"Phone number: 123-45\"\n",
    "match = re.search(pattern, text)\n",
    "print(\"Area code:\", match.group(1))\n",
    "print(\"Local code:\", match.group(2))"
   ]
  },
  {
   "cell_type": "code",
   "execution_count": 34,
   "id": "1016d0ef-f572-4b5e-ad8b-9f28309d372a",
   "metadata": {},
   "outputs": [
    {
     "name": "stdout",
     "output_type": "stream",
     "text": [
      "Matched text: world\n",
      "Start position: 6\n",
      "End position: 11\n"
     ]
    }
   ],
   "source": [
    "pattern = r\"world\"\n",
    "text = \"Hello world\"\n",
    "match = re.search(pattern, text)\n",
    "print(\"Matched text:\", match.group())\n",
    "print(\"Start position:\", match.start())\n",
    "print(\"End position:\", match.end())"
   ]
  },
  {
   "cell_type": "code",
   "execution_count": 32,
   "id": "a066dd27-b9e2-4389-a906-31bc50082b9e",
   "metadata": {},
   "outputs": [
    {
     "name": "stdout",
     "output_type": "stream",
     "text": [
      "After substitution: The dog sat on the mat.\n"
     ]
    }
   ],
   "source": [
    "pattern = r\"cat\"\n",
    "text = \"The cat sat on the mat.\"\n",
    "result = re.sub(pattern, \"dog\", text)\n",
    "print(\"After substitution:\", result)\n"
   ]
  },
  {
   "cell_type": "code",
   "execution_count": 35,
   "id": "f060709f-075f-46b6-9f91-1f1deba3b5af",
   "metadata": {},
   "outputs": [
    {
     "name": "stdout",
     "output_type": "stream",
     "text": [
      "['vnso', 'jods', '', '', '', 'odkj', '', '', '', '', 'jdow']\n"
     ]
    }
   ],
   "source": [
    "#import re\n",
    "text = \"vnso jods    odkj     jdow\"\n",
    "print(text.split(\" \"))"
   ]
  },
  {
   "cell_type": "code",
   "execution_count": 36,
   "id": "b1230627-3090-49c6-a0ee-e77d95470516",
   "metadata": {},
   "outputs": [
    {
     "name": "stdout",
     "output_type": "stream",
     "text": [
      "Matches: ['123', '456']\n"
     ]
    }
   ],
   "source": [
    "pattern = re.compile(r\"\\d+\")\n",
    "text = \"123 apples, 456 bananas\"\n",
    "matches = pattern.findall(text)\n",
    "print(\"Matches:\", matches)"
   ]
  },
  {
   "cell_type": "code",
   "execution_count": 40,
   "id": "8aa7535b-5ef8-4688-8e22-c8e126ba6185",
   "metadata": {},
   "outputs": [
    {
     "ename": "SyntaxError",
     "evalue": "unterminated string literal (detected at line 4) (3424161616.py, line 4)",
     "output_type": "error",
     "traceback": [
      "\u001b[1;36m  Cell \u001b[1;32mIn[40], line 4\u001b[1;36m\u001b[0m\n\u001b[1;33m    pattern = r'^[a-zA-Z0-9._%+-]+@[a-zA-Z0-9.-]+\\.[a-zA-Z]{2,}\u001b[0m\n\u001b[1;37m              ^\u001b[0m\n\u001b[1;31mSyntaxError\u001b[0m\u001b[1;31m:\u001b[0m unterminated string literal (detected at line 4)\n"
     ]
    }
   ],
   "source": [
    "import re\n",
    "\n",
    "def is_valid_email(email):\n",
    "    pattern = r'^[a-zA-Z0-9._%+-]+@[a-zA-Z0-9.-]+\\.[a-zA-Z]{2,}\n",
    "\n",
    "Explanation:\n",
    "\n",
    "           ^ and $ assert the start and end of the string.\n",
    "\n",
    "            The pattern matches:\n",
    "\n",
    "> Characters before the @ (letters, numbers, and certain symbols).\n",
    "> The domain name and top-level domain(TLD)"
   ]
  },
  {
   "cell_type": "code",
   "execution_count": 43,
   "id": "92be2553-da6c-45b0-85c7-2ebee13bc368",
   "metadata": {},
   "outputs": [
    {
     "name": "stdout",
     "output_type": "stream",
     "text": [
      "Valid Password\n"
     ]
    },
    {
     "name": "stderr",
     "output_type": "stream",
     "text": [
      "<>:22: SyntaxWarning: invalid escape sequence '\\s'\n",
      "<>:22: SyntaxWarning: invalid escape sequence '\\s'\n",
      "C:\\Users\\Hp\\AppData\\Local\\Temp\\ipykernel_25444\\3186054401.py:22: SyntaxWarning: invalid escape sequence '\\s'\n",
      "  elif re.search(\"\\s\" , password):\n"
     ]
    }
   ],
   "source": [
    "# Python program to check validation of password\n",
    "# Module of regular expression is used with search()\n",
    "import re\n",
    "password = \"R@m@_f0rtu9e$\"\n",
    "flag = 0\n",
    "while True:\n",
    "    if (len(password)<=8):\n",
    "        flag = -1\n",
    "        break\n",
    "    elif not re.search(\"[a-z]\", password):\n",
    "        flag = -1\n",
    "        break\n",
    "    elif not re.search(\"[A-Z]\", password):\n",
    "        flag = -1\n",
    "        break\n",
    "    elif not re.search(\"[0-9]\", password):\n",
    "        flag = -1\n",
    "        break\n",
    "    elif not re.search(\"[_@$]\" , password):\n",
    "        flag = -1\n",
    "        break\n",
    "    elif re.search(\"\\s\" , password):\n",
    "        flag = -1\n",
    "        break\n",
    "    else:\n",
    "        flag = 0\n",
    "        print(\"Valid Password\")\n",
    "        break\n",
    "\n",
    "if flag == -1:\n",
    "    print(\"Not a Valid Password \")\n"
   ]
  },
  {
   "cell_type": "code",
   "execution_count": 42,
   "id": "da9cd186-275d-4735-ab98-152068f362c8",
   "metadata": {},
   "outputs": [
    {
     "ename": "SyntaxError",
     "evalue": "unterminated string literal (detected at line 4) (1308254802.py, line 4)",
     "output_type": "error",
     "traceback": [
      "\u001b[1;36m  Cell \u001b[1;32mIn[42], line 4\u001b[1;36m\u001b[0m\n\u001b[1;33m    pattern = r'^(?=.[a-z])(?=.[A-Z])(?=.\\d)(?=.[@\\( !%?&])[A-Za-z\\d@ \\)!%?&]{8,}\u001b[0m\n\u001b[1;37m              ^\u001b[0m\n\u001b[1;31mSyntaxError\u001b[0m\u001b[1;31m:\u001b[0m unterminated string literal (detected at line 4)\n"
     ]
    }
   ],
   "source": [
    "import re\n",
    "\n",
    "def is_strong_password(password):\n",
    "    pattern = r'^(?=.[a-z])(?=.[A-Z])(?=.\\d)(?=.[@\\( !%?&])[A-Za-z\\d@ \\)!%?&]{8,}\n",
    "password = \"Tanisha@04\""
   ]
  },
  {
   "cell_type": "code",
   "execution_count": null,
   "id": "890d5177-9822-4ce1-a1f0-2fddbcef9fa1",
   "metadata": {},
   "outputs": [],
   "source": []
  }
 ],
 "metadata": {
  "kernelspec": {
   "display_name": "Python 3 (ipykernel)",
   "language": "python",
   "name": "python3"
  },
  "language_info": {
   "codemirror_mode": {
    "name": "ipython",
    "version": 3
   },
   "file_extension": ".py",
   "mimetype": "text/x-python",
   "name": "python",
   "nbconvert_exporter": "python",
   "pygments_lexer": "ipython3",
   "version": "3.12.5"
  }
 },
 "nbformat": 4,
 "nbformat_minor": 5
}
