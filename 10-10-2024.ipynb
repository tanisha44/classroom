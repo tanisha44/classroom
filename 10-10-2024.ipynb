{
 "cells": [
  {
   "cell_type": "code",
   "execution_count": 2,
   "id": "a81be671-9bcf-4cec-86e1-c50fdf16cea9",
   "metadata": {},
   "outputs": [
    {
     "name": "stdout",
     "output_type": "stream",
     "text": [
      "buddy says woof!\n",
      "charlie is 5 years old.\n",
      "Canis familiaris\n"
     ]
    }
   ],
   "source": [
    "#object oriented programming/ use of class in java\n",
    "\n",
    "class Dog:\n",
    "    #Class attribute (shared by all instances)\n",
    "    species= \"Canis familiaris\"\n",
    "\n",
    "    #constructor (initializer)\n",
    "    def __init__(self, name, age):\n",
    "        #instance attributes (unique to each instance)\n",
    "        self.name = name\n",
    "        self.age = age\n",
    "    #instance method\n",
    "    def bark(self):\n",
    "        return f\"{self.name} says woof!\"\n",
    "\n",
    "    #another instance method \n",
    "    def get_age(self):\n",
    "        return f\"{self.name} is {self.age} years old.\"\n",
    "\n",
    "#creating instances (objects) of the dog class\n",
    "dog1= Dog(\"buddy\",3)\n",
    "dog2= Dog(\"charlie\", 5)\n",
    "\n",
    "#accessing attributes and methods\n",
    "print(dog1.bark())  #buddy says woof!\n",
    "print(dog2.get_age())  #charlie is 5 years old\n",
    "print(dog1.species)"
   ]
  },
  {
   "cell_type": "code",
   "execution_count": 7,
   "id": "d3a416a9-f9b1-482b-b92b-09c92d01482d",
   "metadata": {},
   "outputs": [
    {
     "name": "stdout",
     "output_type": "stream",
     "text": [
      "Oreo says meow!\n",
      "leo is 5 years old.\n",
      "Orange cat\n"
     ]
    }
   ],
   "source": [
    "#object oriented programming/ use of class in java\n",
    "\n",
    "class Cat:\n",
    "    #Class attribute (shared by all instances)\n",
    "    species= \"Orange cat\"\n",
    "\n",
    "    #constructor (initializer)\n",
    "    def __init__(self, name, age):\n",
    "        #instance attributes (unique to each instance)\n",
    "        self.name = name\n",
    "        self.age = age\n",
    "    #instance method\n",
    "    def meow(self):\n",
    "        return f\"{self.name} says meow!\"\n",
    "\n",
    "    #another instance method \n",
    "    def get_age(self):\n",
    "        return f\"{self.name} is {self.age} years old.\"\n",
    "\n",
    "#creating instances (objects) of the dog class\n",
    "cat1= Cat(\"Oreo\",3)\n",
    "cat2= Cat(\"leo\", 5)\n",
    "\n",
    "#accessing attributes and methods\n",
    "print(cat1.meow())  #buddy says woof!\n",
    "print(cat2.get_age())  #charlie is 5 years old\n",
    "print(cat1.species)"
   ]
  },
  {
   "cell_type": "code",
   "execution_count": 19,
   "id": "0d89e266-44b2-41c0-b899-be2827942557",
   "metadata": {},
   "outputs": [
    {
     "name": "stdout",
     "output_type": "stream",
     "text": [
      "age = 2\n",
      "cat1 says meu!\n",
      "cat1 is 2 years old.\n",
      "orange cat\n"
     ]
    }
   ],
   "source": [
    "#inheritance\n",
    "class Animal: #general class\n",
    "    def __init__(self, name, age):\n",
    "        self.name = name\n",
    "        self.age = age\n",
    "    def get_age(self):\n",
    "        return f\"{self.name} is {self.age} years old.\"\n",
    "\n",
    "class Dog(Animal): #inheriting Animal class\n",
    "    species = \"Canis familiarias\"\n",
    "\n",
    "    def bark(self):\n",
    "        return f\"{self.name} says woof!\"\n",
    "\n",
    "class Cat(Animal):\n",
    "    species = \"orange cat\"\n",
    "\n",
    "    def meu(self):\n",
    "        return f\"{self.name} says meu!\"\n",
    "        \n",
    "cat1 = Cat(\"cat1\",2)\n",
    "print(f\"age = {cat1.age}\")\n",
    "cat1.age\n",
    "\n",
    "print(cat1.meu())\n",
    "print(cat1.get_age())\n",
    "print(cat1.species)"
   ]
  },
  {
   "cell_type": "code",
   "execution_count": null,
   "id": "b5e95f47-4e09-483f-92a3-6dfce64da9bc",
   "metadata": {},
   "outputs": [],
   "source": []
  }
 ],
 "metadata": {
  "kernelspec": {
   "display_name": "Python 3 (ipykernel)",
   "language": "python",
   "name": "python3"
  },
  "language_info": {
   "codemirror_mode": {
    "name": "ipython",
    "version": 3
   },
   "file_extension": ".py",
   "mimetype": "text/x-python",
   "name": "python",
   "nbconvert_exporter": "python",
   "pygments_lexer": "ipython3",
   "version": "3.12.5"
  }
 },
 "nbformat": 4,
 "nbformat_minor": 5
}
