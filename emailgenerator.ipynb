{
 "cells": [
  {
   "cell_type": "code",
   "execution_count": null,
   "id": "5125486b-26b7-4ff9-9d5c-4ee314ccf95d",
   "metadata": {},
   "outputs": [],
   "source": [
    "#waf that generates list of email address using list of sapid\n",
    "#generate email address using sapid\n",
    "#sapid\n",
    "#1234567\n",
    "#email\n",
    "#1234567@stu.upes.ac.in\n",
    "# 1 . function/for loop\n",
    "# 2. map/filter and lambda\n",
    "#  3 . list comprehension"
   ]
  },
  {
   "cell_type": "code",
   "execution_count": 6,
   "id": "1ab4920e-be55-4b92-8369-e6a0e79f3786",
   "metadata": {},
   "outputs": [
    {
     "data": {
      "text/plain": [
       "['123@stu.upes.ac.in', '2345@stu.upes.ac.in', '2546@stu.upes.ac.in']"
      ]
     },
     "execution_count": 6,
     "metadata": {},
     "output_type": "execute_result"
    }
   ],
   "source": [
    "#1st logic\n",
    "sapids=[123,2345,2546]\n",
    "\n",
    "def id2email(id):\n",
    "    return str(id) + \"@stu.upes.ac.in\"\n",
    "\n",
    "def sapids_to_emails(sapids):\n",
    "    emails = []\n",
    "    for id in sapids:\n",
    "        email = id2email(id)\n",
    "        emails.append(email)\n",
    "\n",
    "    return emails\n",
    "\n",
    "list_of_emails = sapids_to_emails(sapids)\n",
    "list_of_emails"
   ]
  },
  {
   "cell_type": "code",
   "execution_count": 3,
   "id": "45c045d3-4fa2-4b39-a3bf-e762905746e7",
   "metadata": {},
   "outputs": [
    {
     "data": {
      "text/plain": [
       "<map at 0x1d40260ae90>"
      ]
     },
     "execution_count": 3,
     "metadata": {},
     "output_type": "execute_result"
    }
   ],
   "source": [
    "\n",
    "#2nd logic using map and function  \n",
    "\n",
    "sapidss = [123,1234,12345,123456]\n",
    "\n",
    "def id2email(id):\n",
    "    return str(id) + \"@stu.upes.ac.in\"\n",
    "\n",
    "list_of_emailsss = map(id2email , sapidss)\n",
    "\n",
    "list_of_emailsss"
   ]
  },
  {
   "cell_type": "code",
   "execution_count": 4,
   "id": "35b93512-2bd7-4e01-9d9d-9faa336cb0f2",
   "metadata": {},
   "outputs": [
    {
     "data": {
      "text/plain": [
       "['123@stu.upes.ac.in',\n",
       " '1234@stu.upes.ac.in',\n",
       " '12345@stu.upes.ac.in',\n",
       " '123456@stu.upes.ac.in']"
      ]
     },
     "execution_count": 4,
     "metadata": {},
     "output_type": "execute_result"
    }
   ],
   "source": [
    "#3nd logic using lambda\n",
    "\n",
    "sapidss = [123,1234,12345,123456]\n",
    "\n",
    "# def id2email(id):\n",
    "#     return str(id) + \"@stu.upes.ac.in\"\n",
    "\n",
    "list_of_emailsss = list(map(lambda id :str(id) + \"@stu.upes.ac.in\" , sapidss))\n",
    "\n",
    "list_of_emailsss"
   ]
  },
  {
   "cell_type": "code",
   "execution_count": 5,
   "id": "51a92636-f1df-4a54-bc97-594f91198601",
   "metadata": {},
   "outputs": [
    {
     "data": {
      "text/plain": [
       "[' 123 @stu.upes.ac.in',\n",
       " ' 1234 @stu.upes.ac.in',\n",
       " ' 12345 @stu.upes.ac.in',\n",
       " ' 123456 @stu.upes.ac.in']"
      ]
     },
     "execution_count": 5,
     "metadata": {},
     "output_type": "execute_result"
    }
   ],
   "source": [
    "#4nd logic using list comprehnsion\n",
    "\n",
    "sapidss = [123,1234,12345,123456]\n",
    "\n",
    "list_of_emails = [ f\" { id} @stu.upes.ac.in\" for id in sapidss ]\n",
    "list_of_emails"
   ]
  },
  {
   "cell_type": "code",
   "execution_count": null,
   "id": "7b212b60-6383-463e-ba68-66282622a9b9",
   "metadata": {},
   "outputs": [],
   "source": []
  }
 ],
 "metadata": {
  "kernelspec": {
   "display_name": "Python 3 (ipykernel)",
   "language": "python",
   "name": "python3"
  },
  "language_info": {
   "codemirror_mode": {
    "name": "ipython",
    "version": 3
   },
   "file_extension": ".py",
   "mimetype": "text/x-python",
   "name": "python",
   "nbconvert_exporter": "python",
   "pygments_lexer": "ipython3",
   "version": "3.12.5"
  }
 },
 "nbformat": 4,
 "nbformat_minor": 5
}
