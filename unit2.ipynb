{
 "cells": [
  {
   "cell_type": "code",
   "execution_count": 1,
   "id": "8eeefda7-4799-4cce-a7b9-e23215dac5ca",
   "metadata": {},
   "outputs": [
    {
     "name": "stdout",
     "output_type": "stream",
     "text": [
      "30\n",
      "20\n",
      "10\n"
     ]
    }
   ],
   "source": [
    "# main file \n",
    "\n",
    "x = 10 #global variable \n",
    "def outer_function():\n",
    "    x = 20 #enclosing variable \n",
    "    def inner_function():\n",
    "        x = 30   #Local variable \n",
    "        print(x)  #Output : 30\n",
    "    inner_function()\n",
    "    print(x)  # output : 20\n",
    "\n",
    "outer_function()\n",
    "print(x)  #Output : 1"
   ]
  },
  {
   "cell_type": "code",
   "execution_count": 2,
   "id": "dd45751a-f85f-4d3a-a5d3-3543976487a3",
   "metadata": {},
   "outputs": [],
   "source": [
    "counter = 0\n",
    "\n",
    "def increment():\n",
    "    global counter\n",
    "    counter+=1"
   ]
  },
  {
   "cell_type": "code",
   "execution_count": 3,
   "id": "1ad9ced7-f955-4b61-8114-e9276057695b",
   "metadata": {},
   "outputs": [
    {
     "name": "stdout",
     "output_type": "stream",
     "text": [
      "1\n"
     ]
    }
   ],
   "source": [
    "increment()\n",
    "print(counter)"
   ]
  },
  {
   "cell_type": "code",
   "execution_count": 4,
   "id": "b2e6f2b6-5e4a-4fc5-8363-a9aced4d54f3",
   "metadata": {},
   "outputs": [],
   "source": [
    "def modify_immutable(x):\n",
    "    x+= 1\n",
    "    print(f\"Inside function : {x}\") \n"
   ]
  },
  {
   "cell_type": "code",
   "execution_count": 5,
   "id": "655c1819-ac56-47fa-8d62-68b4dc59bec0",
   "metadata": {},
   "outputs": [
    {
     "name": "stdout",
     "output_type": "stream",
     "text": [
      "Inside function : 6\n",
      "Outside function : 5\n"
     ]
    }
   ],
   "source": [
    "a = 5\n",
    "modify_immutable(a)\n",
    "print(f\"Outside function : {a}\")"
   ]
  },
  {
   "cell_type": "code",
   "execution_count": 6,
   "id": "012789f6-1fbb-432e-9268-955a89f8a93b",
   "metadata": {},
   "outputs": [],
   "source": [
    "def modify_mutable(lst):\n",
    "    lst.append(4)\n",
    "    print(f\"Inside function : {lst}\")"
   ]
  },
  {
   "cell_type": "code",
   "execution_count": 7,
   "id": "62865541-2edb-404f-b76b-5c1eb1583dec",
   "metadata": {},
   "outputs": [
    {
     "name": "stdout",
     "output_type": "stream",
     "text": [
      "Inside function : [1, 2, 3, 4]\n",
      "Outside function : [1, 2, 3, 4]\n"
     ]
    }
   ],
   "source": [
    "my_list = [1,2,3]\n",
    "modify_mutable(my_list)\n",
    "print(f\"Outside function : {my_list}\")"
   ]
  },
  {
   "cell_type": "code",
   "execution_count": 8,
   "id": "45b2471e-2b47-498e-b7b3-072064303e48",
   "metadata": {},
   "outputs": [
    {
     "name": "stdout",
     "output_type": "stream",
     "text": [
      "25\n"
     ]
    }
   ],
   "source": [
    "def square(x):\n",
    "    return x * x \n",
    "\n",
    "f = square\n",
    "print(f(5))\n",
    "\n",
    "def apply_function(func , value):\n",
    "    return func(value)"
   ]
  },
  {
   "cell_type": "code",
   "execution_count": 9,
   "id": "bbaded70-2e0a-4fce-8460-8ee3d5e60c7c",
   "metadata": {},
   "outputs": [
    {
     "name": "stdout",
     "output_type": "stream",
     "text": [
      "16\n"
     ]
    }
   ],
   "source": [
    "result = apply_function(square , 4)\n",
    "print(result)"
   ]
  },
  {
   "cell_type": "code",
   "execution_count": 10,
   "id": "6823e9b2-8795-4c24-9b86-8ac3d9084bce",
   "metadata": {},
   "outputs": [],
   "source": [
    "def double(x):\n",
    "    return x*2\n",
    "def triple(x):\n",
    "    return x*3\n",
    "def apply_operation(func , number):\n",
    "    return func(number)\n"
   ]
  },
  {
   "cell_type": "code",
   "execution_count": 11,
   "id": "166fc881-91cb-4e1b-a504-59751a23d526",
   "metadata": {},
   "outputs": [
    {
     "name": "stdout",
     "output_type": "stream",
     "text": [
      "10\n",
      "12\n"
     ]
    }
   ],
   "source": [
    "print(apply_operation(double , 5))\n",
    "print(apply_operation(triple , 4))\n"
   ]
  },
  {
   "cell_type": "code",
   "execution_count": 12,
   "id": "c0e41a06-9827-4fe9-9940-2972f93ccb2f",
   "metadata": {},
   "outputs": [
    {
     "name": "stdout",
     "output_type": "stream",
     "text": [
      "8\n"
     ]
    }
   ],
   "source": [
    "#Lamda Function\n",
    "\n",
    "add= lambda a, b : a+ b\n",
    "print(add(3,5))"
   ]
  },
  {
   "cell_type": "code",
   "execution_count": 13,
   "id": "b6564b26-5582-410c-b603-1b5bb781e43c",
   "metadata": {},
   "outputs": [
    {
     "name": "stdout",
     "output_type": "stream",
     "text": [
      "24\n",
      "42\n"
     ]
    }
   ],
   "source": [
    "#Write a function to multiply 3 number and return its result\n",
    "\n",
    "def jod(a,b,c): #define a function mod\n",
    "    return a*b*c\n",
    "\n",
    "mod = lambda a,b,c : a*b*c   # define lambda \n",
    "print(mod(2,3,4))\n",
    "\n",
    "print(jod(2,3,7))  #calling function jod and print"
   ]
  },
  {
   "cell_type": "code",
   "execution_count": 14,
   "id": "4c54765c-b089-4d2d-9f95-ea92121d1e5f",
   "metadata": {},
   "outputs": [
    {
     "name": "stdout",
     "output_type": "stream",
     "text": [
      "[1, 4, 9, 16, 25]\n"
     ]
    }
   ],
   "source": [
    "#Map Function\n",
    "\n",
    "numbers = [1,2,3,4,5]\n",
    "squared = map(lambda x: x*x , numbers)\n",
    "print(list(squared))"
   ]
  },
  {
   "cell_type": "code",
   "execution_count": 15,
   "id": "e0fd5f3d-1884-4f64-a569-e66684673082",
   "metadata": {},
   "outputs": [
    {
     "name": "stdout",
     "output_type": "stream",
     "text": [
      "[2, 4]\n"
     ]
    }
   ],
   "source": [
    "#Map Function With Filter\n",
    "\n",
    "even_numbers = filter(lambda x: x %2==0 , numbers)\n",
    "print(list(even_numbers))"
   ]
  },
  {
   "cell_type": "code",
   "execution_count": 16,
   "id": "9a5093e4-8094-4d4f-86ef-9c42517ee1c7",
   "metadata": {},
   "outputs": [],
   "source": [
    "#List Comprehension\n",
    "\n",
    "squares = []\n",
    "for i in range (10):\n",
    "    if i %2 == 0:\n",
    "        squares.append(i ** 2)"
   ]
  },
  {
   "cell_type": "code",
   "execution_count": 17,
   "id": "5504d327-0b70-48a5-83e4-1867adb3f713",
   "metadata": {},
   "outputs": [
    {
     "name": "stdout",
     "output_type": "stream",
     "text": [
      "[0, 4, 16, 36, 64]\n"
     ]
    }
   ],
   "source": [
    "print(squares)"
   ]
  },
  {
   "cell_type": "code",
   "execution_count": 18,
   "id": "4b317ead-2547-462d-a423-8fec9b2757b1",
   "metadata": {},
   "outputs": [],
   "source": [
    "squares = [i ** 2 for i in range(10) if i% 2 == 0]"
   ]
  },
  {
   "cell_type": "code",
   "execution_count": 19,
   "id": "f9329adb-a238-4660-ab37-fd8b3a766e67",
   "metadata": {},
   "outputs": [
    {
     "name": "stdout",
     "output_type": "stream",
     "text": [
      "[0, 4, 16, 36, 64]\n"
     ]
    }
   ],
   "source": [
    "print(squares)"
   ]
  },
  {
   "cell_type": "code",
   "execution_count": null,
   "id": "94d30ca8-4a42-4ce6-b4d7-905bd4d68c3f",
   "metadata": {},
   "outputs": [],
   "source": []
  }
 ],
 "metadata": {
  "kernelspec": {
   "display_name": "Python 3 (ipykernel)",
   "language": "python",
   "name": "python3"
  },
  "language_info": {
   "codemirror_mode": {
    "name": "ipython",
    "version": 3
   },
   "file_extension": ".py",
   "mimetype": "text/x-python",
   "name": "python",
   "nbconvert_exporter": "python",
   "pygments_lexer": "ipython3",
   "version": "3.12.5"
  }
 },
 "nbformat": 4,
 "nbformat_minor": 5
}
